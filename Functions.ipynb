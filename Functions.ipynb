{
  "nbformat": 4,
  "nbformat_minor": 0,
  "metadata": {
    "colab": {
      "provenance": []
    },
    "kernelspec": {
      "name": "python3",
      "display_name": "Python 3"
    },
    "language_info": {
      "name": "python"
    }
  },
  "cells": [
    {
      "cell_type": "markdown",
      "source": [
        "#1- What is the difference between a function and a method in Python?\n",
        "- In Python, the difference between a function and a method is:\n",
        "\n",
        "Function:\n",
        "\n",
        "A function is a block of reusable code that performs a specific task.\n",
        "It is defined using the def keyword and can exist independently of any class.\n",
        "It can be called directly using its name.\n",
        "Example:\n",
        "\n",
        "Method:\n",
        "A method is a function that is associated with an object (i.e., it is defined inside a class).\n",
        "It operates on instance variables of a class and is called using an instance of the class.\n",
        "The first parameter of an instance method is typically self, which refers to the object itself.\n",
        "Example\n",
        "\n",
        "\n",
        "\n"
      ],
      "metadata": {
        "id": "oTB6jTvHreMX"
      }
    },
    {
      "cell_type": "code",
      "source": [
        "def greet(name):\n",
        "    return f\"Hello, {name}!\"\n",
        "\n",
        "print(greet(\"Manas\"))"
      ],
      "metadata": {
        "colab": {
          "base_uri": "https://localhost:8080/"
        },
        "id": "BXlLfk-cso5f",
        "outputId": "9c436d89-78cb-4ed1-f214-897cdf3213ba"
      },
      "execution_count": null,
      "outputs": [
        {
          "output_type": "stream",
          "name": "stdout",
          "text": [
            "Hello, Manas!\n"
          ]
        }
      ]
    },
    {
      "cell_type": "code",
      "source": [
        "class Person:\n",
        "    def __init__(self, name):\n",
        "        self.name = name\n",
        "\n",
        "    def greet(self):\n",
        "        return f\"Hello, {self.name}!\"\n",
        "\n",
        "p = Person(\"Manas\")\n",
        "print(p.greet())"
      ],
      "metadata": {
        "colab": {
          "base_uri": "https://localhost:8080/"
        },
        "id": "I0wQLZ9Iy9oF",
        "outputId": "51bff507-041d-4c6f-f0f7-035425c3e049"
      },
      "execution_count": null,
      "outputs": [
        {
          "output_type": "stream",
          "name": "stdout",
          "text": [
            "Hello, Manas!\n"
          ]
        }
      ]
    },
    {
      "cell_type": "markdown",
      "source": [
        "#2-Explain the concept of function arguments and parameters in Python.\n",
        "- Parameters: These are the variables defined in a function's declaration. They act as placeholders for the values that will be passed into the function when it’s called.\n",
        "\n",
        "Arguments: These are the actual values you provide to the function when you call it. They are assigned to the corresponding parameters.\n",
        "\n",
        "In simple terms:\n",
        "Parameters are what the function expects.\n",
        "\n",
        "Arguments are what you give to the function.\n",
        "\n",
        "\n",
        "\n"
      ],
      "metadata": {
        "id": "vY3C4kq6zPvu"
      }
    },
    {
      "cell_type": "code",
      "source": [
        "def greet(name, greeting):  # 'name' and 'greeting' are parameters\n",
        "    message = f\"{greeting}, {name}!\"\n",
        "    print(message)\n",
        "    greet(\"Manas\", \"Hello\")\n",
        "    greet(\"Manas\", \"Hello\")"
      ],
      "metadata": {
        "id": "QG7xHOnt1B6H"
      },
      "execution_count": 9,
      "outputs": []
    },
    {
      "cell_type": "markdown",
      "source": [
        "#3-What are the different ways to define and call a function in Python?\n",
        "- In Python, functions can be defined and called in several ways, depending on the use case and desired flexibility. Below, I’ll explain the different methods to define and call functions, with examples for each.\n",
        "\n",
        "-The simplest way to define a function is using the def keyword, followed by a function name and optional parameters.\n",
        "\n"
      ],
      "metadata": {
        "id": "yaOLERlx1UcR"
      }
    },
    {
      "cell_type": "code",
      "source": [
        "def say_hello():\n",
        "    print(\"Hello, world!\")\n",
        "    say_hello()  # Calls the function"
      ],
      "metadata": {
        "id": "E6mkSPr-2PKG"
      },
      "execution_count": 11,
      "outputs": []
    },
    {
      "cell_type": "code",
      "source": [
        "def add(a, b):\n",
        "    return a + b"
      ],
      "metadata": {
        "id": "W9WGyf0T2ley"
      },
      "execution_count": 17,
      "outputs": []
    },
    {
      "cell_type": "code",
      "source": [
        "result = add(3, 5)\n",
        "print(result)"
      ],
      "metadata": {
        "colab": {
          "base_uri": "https://localhost:8080/"
        },
        "id": "JKQGK7zv2nlR",
        "outputId": "dcaa1d43-b7b1-4107-8e36-61a659f96000"
      },
      "execution_count": 13,
      "outputs": [
        {
          "output_type": "stream",
          "name": "stdout",
          "text": [
            "8\n"
          ]
        }
      ]
    },
    {
      "cell_type": "code",
      "source": [
        "result = add(b=5, a=3)  # Order doesn’t matter\n",
        "print(result)"
      ],
      "metadata": {
        "colab": {
          "base_uri": "https://localhost:8080/"
        },
        "id": "-E-GEACT3IdJ",
        "outputId": "b37feefc-1564-412f-a544-a38eb7bcfb02"
      },
      "execution_count": 18,
      "outputs": [
        {
          "output_type": "stream",
          "name": "stdout",
          "text": [
            "8\n"
          ]
        }
      ]
    },
    {
      "cell_type": "markdown",
      "source": [
        "#4-What is the purpose of the `return` statement in a Python function?\n",
        "-The return statement in a Python function serves a crucial purpose: it specifies the value (or values) that the function should output back to the caller. It also immediately terminates the function’s execution, handing control back to the code that called the function. Let’s break this down with examples to make it crystal clear.\n",
        "\n"
      ],
      "metadata": {
        "id": "XTNRIA5u3WVX"
      }
    },
    {
      "cell_type": "code",
      "source": [
        "def add(a, b):\n",
        "    return a + b  # Returns the sum to the caller\n",
        "\n",
        "result = add(3, 4)  # The returned value (7) is stored in 'result'\n",
        "print(result)"
      ],
      "metadata": {
        "colab": {
          "base_uri": "https://localhost:8080/"
        },
        "id": "4G0YVnQt4lw5",
        "outputId": "5dce7488-7749-4324-93b5-28cf8ca1ebd6"
      },
      "execution_count": 20,
      "outputs": [
        {
          "output_type": "stream",
          "name": "stdout",
          "text": [
            "7\n"
          ]
        }
      ]
    },
    {
      "cell_type": "markdown",
      "source": [
        "#5-What are iterators in Python and how do they differ from iterables?\n",
        "-An iterable is any Python object that can return its elements one at a time. It’s something you can loop over, like a list, tuple, string, or dictionary. Technically, an object is iterable if it:\n",
        "Implements the __iter__() method, which returns an iterator, or\n",
        "\n",
        "Implements the __getitem__() method, supporting sequence access with integer indices (like obj[0], obj[1], etc.)\n",
        "\n"
      ],
      "metadata": {
        "id": "EOHNjn2s4oHA"
      }
    },
    {
      "cell_type": "code",
      "source": [
        "my_list = [1, 2, 3]       # List\n",
        "my_string = \"hello\"       # String\n",
        "my_tuple = (4, 5, 6)      # Tuple\n",
        "my_dict = {\"a\": 1, \"b\": 2}\n",
        "for item in my_list:  # Loops over the list\n",
        "    print(item)"
      ],
      "metadata": {
        "colab": {
          "base_uri": "https://localhost:8080/"
        },
        "id": "_g7ugZIv5KwZ",
        "outputId": "1d981d7e-cff3-492c-cef8-46636dcb41bf"
      },
      "execution_count": 26,
      "outputs": [
        {
          "output_type": "stream",
          "name": "stdout",
          "text": [
            "1\n",
            "2\n",
            "3\n"
          ]
        }
      ]
    },
    {
      "cell_type": "markdown",
      "source": [
        "An iterator is an object that represents a stream of data. It’s the thing that actually does the work of stepping through an iterable’s elements. An iterator must:\n",
        "Implement the __iter__() method, which returns itself (since it’s already an iterator).\n",
        "\n",
        "Implement the __next__() method, which returns the next item in the sequence or raises StopIteration when there are no more items.\n",
        "\n",
        "You can think of an iterator as a \"cursor\" or \"pointer\" that keeps track of where it is in the sequence.\n",
        "Creating an Iterator:\n",
        "You can get an iterator from an iterable using the iter() function.\n",
        "\n"
      ],
      "metadata": {
        "id": "V3mlPYiD6fbZ"
      }
    },
    {
      "cell_type": "code",
      "source": [
        "my_list = [1, 2, 3]\n",
        "iterator = iter(my_list)\n",
        ""
      ],
      "metadata": {
        "id": "U5BfgUHr6exF"
      },
      "execution_count": 29,
      "outputs": []
    },
    {
      "cell_type": "markdown",
      "source": [
        "#6-Explain the concept of generators in Python and how they are defined.\n",
        "-A generator is a special type of iterator that:\n",
        "Produces values lazily (only when requested).\n",
        "\n",
        "Uses the yield keyword instead of return to provide values.\n",
        "\n",
        "Pauses its execution between each value, remembering its state (like where it left off).\n",
        "\n",
        "Unlike regular functions that return a single value and exit, generators can yield multiple values over time, suspending and resuming execution as needed.\n",
        "\n"
      ],
      "metadata": {
        "id": "NA2cTP_d62OW"
      }
    },
    {
      "cell_type": "code",
      "source": [
        "def count_up_to(n):\n",
        "    i = 1\n",
        "    while i <= n:\n",
        "        yield i  # Yields the current value and pauses\n",
        "        i += 1\n",
        "        counter = count_up_to(3)\n",
        ""
      ],
      "metadata": {
        "id": "0f2XHcp86129"
      },
      "execution_count": 35,
      "outputs": []
    },
    {
      "cell_type": "markdown",
      "source": [
        "#7-What are the advantages of using generators over regular functions?\n",
        "- Generators in Python offer several advantages over regular functions, particularly when it comes to efficiency, flexibility, and handling large or dynamic datasets. Let’s explore these benefits in detail, with examples to illustrate why you might choose a generator over a regular function.\n",
        "\n"
      ],
      "metadata": {
        "id": "pQW3ptux98VK"
      }
    },
    {
      "cell_type": "code",
      "source": [
        "def get_numbers(n): #Regular Function\n",
        "\n",
        "    numbers = []\n",
        "    for i in range(n):\n",
        "        numbers.append(i)\n",
        "    return numbers  # Returns a complete list\n",
        "\n",
        "result = get_numbers(1000000)  # Creates a list of 1 million numbers in memory\n",
        "print(len(result))"
      ],
      "metadata": {
        "colab": {
          "base_uri": "https://localhost:8080/"
        },
        "id": "LQn3N_mj-pCG",
        "outputId": "52df6401-61a1-465e-f562-e0da6ab20030"
      },
      "execution_count": 36,
      "outputs": [
        {
          "output_type": "stream",
          "name": "stdout",
          "text": [
            "1000000\n"
          ]
        }
      ]
    },
    {
      "cell_type": "code",
      "source": [
        "def gen_numbers(n):  #Generator\n",
        "\n",
        "    for i in range(n):\n",
        "        yield i  # Yields one number at a time\n",
        "\n",
        "gen = gen_numbers(1000000)  # No list created, just a generator object\n",
        "print(next(gen))  # Output: 0\n",
        "print(next(gen))"
      ],
      "metadata": {
        "colab": {
          "base_uri": "https://localhost:8080/"
        },
        "id": "27X-P_ew-7VW",
        "outputId": "5054459b-8a6c-49bc-a7af-427c6078e093"
      },
      "execution_count": 37,
      "outputs": [
        {
          "output_type": "stream",
          "name": "stdout",
          "text": [
            "0\n",
            "1\n"
          ]
        }
      ]
    },
    {
      "cell_type": "markdown",
      "source": [
        "#8- What is a lambda function in Python and when is it typically used?\n",
        "-A lambda function in Python is a small, anonymous (unnamed) function defined using the lambda keyword. Unlike regular functions defined with def, lambda functions are typically single-line expressions and don’t have a name unless assigned to a variable. They’re concise, powerful, and often used in situations where a full function definition would be overkill.\n",
        "\n",
        "Syntax: lambda arguments: expression\n",
        "lambda: Keyword to define the function.\n",
        "\n",
        "arguments: Comma-separated parameters (like in a regular function).\n",
        "\n",
        "expression: A single expression that gets evaluated and returned (no return statement needed).\n",
        "\n",
        "Key Traits:\n",
        "Anonymous: Doesn’t require a name (though it can be assigned one).\n",
        "\n",
        "Single Expression: Limited to one expression, no multi-line code or statements (e.g., no if blocks, just expressions).\n",
        "\n",
        "Returns Implicitly: The result of the expression is automatically returned\n",
        "\n"
      ],
      "metadata": {
        "id": "N4DgnhQF_KMd"
      }
    },
    {
      "cell_type": "code",
      "source": [
        "add = lambda x, y: x + y\n",
        "print(add(3, 4))"
      ],
      "metadata": {
        "colab": {
          "base_uri": "https://localhost:8080/"
        },
        "id": "od2svnqF_uFi",
        "outputId": "f33e3df4-58f0-4c72-f3b3-715ec5b21d63"
      },
      "execution_count": 38,
      "outputs": [
        {
          "output_type": "stream",
          "name": "stdout",
          "text": [
            "7\n"
          ]
        }
      ]
    },
    {
      "cell_type": "code",
      "source": [
        "numbers = [1, 2, 3, 4]\n",
        "squared = map(lambda x: x**2, numbers)\n",
        "print(list(squared))"
      ],
      "metadata": {
        "colab": {
          "base_uri": "https://localhost:8080/"
        },
        "id": "-wkRMXsi_54C",
        "outputId": "d9993fd0-3cad-4f5a-cc25-0441866924d4"
      },
      "execution_count": 39,
      "outputs": [
        {
          "output_type": "stream",
          "name": "stdout",
          "text": [
            "[1, 4, 9, 16]\n"
          ]
        }
      ]
    },
    {
      "cell_type": "code",
      "source": [
        "numbers = [1, 2, 3, 4, 5]\n",
        "evens = filter(lambda x: x % 2 == 0, numbers)\n",
        "print(list(evens))"
      ],
      "metadata": {
        "colab": {
          "base_uri": "https://localhost:8080/"
        },
        "id": "MgfZBEyk__GB",
        "outputId": "c889e47f-0eea-4d91-dc76-50a52c8786a8"
      },
      "execution_count": 40,
      "outputs": [
        {
          "output_type": "stream",
          "name": "stdout",
          "text": [
            "[2, 4]\n"
          ]
        }
      ]
    },
    {
      "cell_type": "code",
      "source": [
        "pairs = [(1, 'one'), (3, 'three'), (2, 'two')]\n",
        "sorted_pairs = sorted(pairs, key=lambda x: x[1])  # Sort by second element\n",
        "print(sorted_pairs)"
      ],
      "metadata": {
        "colab": {
          "base_uri": "https://localhost:8080/"
        },
        "id": "lIqvRWTdAEHE",
        "outputId": "ea5c0703-05f7-4ed2-ba01-0450b0bed276"
      },
      "execution_count": 41,
      "outputs": [
        {
          "output_type": "stream",
          "name": "stdout",
          "text": [
            "[(1, 'one'), (3, 'three'), (2, 'two')]\n"
          ]
        }
      ]
    },
    {
      "cell_type": "markdown",
      "source": [
        "#9. Explain the purpose and usage of the `map()` function in Python.\n",
        "-The map() function in Python is a built-in higher-order function that applies a given function to each item in an iterable (like a list, tuple, or string) and returns an iterator with the results. It’s a clean, functional way to transform data without writing explicit loops.\n",
        "map() takes a function and an iterable.\n",
        "\n",
        "It applies the function to each item in the iterable, one at a time.\n",
        "\n",
        "It yields the result of each function call as an iterator.\n",
        "\n",
        "You can consume the iterator (e.g., with list() or a for loop) to get the transformed values.\n",
        "\n",
        "\n",
        "\n"
      ],
      "metadata": {
        "id": "2EW5lQGCAN1T"
      }
    },
    {
      "cell_type": "code",
      "source": [
        "def square(x):\n",
        "    return x ** 2\n",
        "\n",
        "numbers = [1, 2, 3, 4]\n",
        "result = map(square, numbers)\n",
        "print(list(result))"
      ],
      "metadata": {
        "colab": {
          "base_uri": "https://localhost:8080/"
        },
        "id": "FrJsnVKNAyXC",
        "outputId": "65641919-8edb-428c-b279-34df321416c6"
      },
      "execution_count": 42,
      "outputs": [
        {
          "output_type": "stream",
          "name": "stdout",
          "text": [
            "[1, 4, 9, 16]\n"
          ]
        }
      ]
    },
    {
      "cell_type": "code",
      "source": [
        "numbers = [1, 2, 3, 4]\n",
        "result = map(lambda x: x ** 2, numbers)\n",
        "print(list(result))"
      ],
      "metadata": {
        "colab": {
          "base_uri": "https://localhost:8080/"
        },
        "id": "HTjNgKoYA9OL",
        "outputId": "bcc2b3ff-4d4f-43b0-bb54-3145351a720c"
      },
      "execution_count": 43,
      "outputs": [
        {
          "output_type": "stream",
          "name": "stdout",
          "text": [
            "[1, 4, 9, 16]\n"
          ]
        }
      ]
    },
    {
      "cell_type": "code",
      "source": [
        "words = [\"hello\", \"world\"]\n",
        "result = map(str.upper, words)  # Applies str.upper to each string\n",
        "print(list(result))"
      ],
      "metadata": {
        "colab": {
          "base_uri": "https://localhost:8080/"
        },
        "id": "HgmpKTFeA_jE",
        "outputId": "d32d55e3-4f67-4926-ae97-e79240522a72"
      },
      "execution_count": 44,
      "outputs": [
        {
          "output_type": "stream",
          "name": "stdout",
          "text": [
            "['HELLO', 'WORLD']\n"
          ]
        }
      ]
    },
    {
      "cell_type": "code",
      "source": [
        "def add(x, y):\n",
        "    return x + y\n",
        "\n",
        "list1 = [1, 2, 3]\n",
        "list2 = [4, 5, 6]\n",
        "result = map(add, list1, list2)\n",
        "print(list(result))"
      ],
      "metadata": {
        "colab": {
          "base_uri": "https://localhost:8080/"
        },
        "id": "B-Rn11MbBLH1",
        "outputId": "40eed0b7-1d86-4cd2-abca-1d820ed612a6"
      },
      "execution_count": 45,
      "outputs": [
        {
          "output_type": "stream",
          "name": "stdout",
          "text": [
            "[5, 7, 9]\n"
          ]
        }
      ]
    },
    {
      "cell_type": "code",
      "source": [
        "list1 = [1, 2, 3]\n",
        "list2 = [4, 5, 6]\n",
        "result = map(lambda x, y: x * y, list1, list2)\n",
        "print(list(result))"
      ],
      "metadata": {
        "colab": {
          "base_uri": "https://localhost:8080/"
        },
        "id": "mAQYrz9-BRvD",
        "outputId": "ed374686-a931-46f8-a3b0-9ac0c10d2e55"
      },
      "execution_count": 46,
      "outputs": [
        {
          "output_type": "stream",
          "name": "stdout",
          "text": [
            "[4, 10, 18]\n"
          ]
        }
      ]
    },
    {
      "cell_type": "markdown",
      "source": [
        "#10-What is the difference between `map()`, `reduce()`, and `filter()` functions in Python?\n",
        "-In Python, map(), reduce(), and filter() are higher-order functions that operate on iterables, often used in functional programming. They each serve distinct purposes: transforming, aggregating, and selecting data, respectively. Let’s break down their differences in purpose, behavior, and usage, with examples to clarify.\n",
        "\n"
      ],
      "metadata": {
        "id": "xtg2sNsRBZo2"
      }
    },
    {
      "cell_type": "markdown",
      "source": [
        "map()\n",
        "Purpose: Applies a function to every item in an iterable to transform it.\n",
        "\n",
        "Behavior: Processes each element independently, producing a new sequence of results.\n",
        "\n",
        "Returns: A map object (iterator) with transformed values.\n",
        "\n",
        "Use Case: When you want to change every item in a collection (e.g., square numbers, convert strings).\n",
        "\n"
      ],
      "metadata": {
        "id": "IxOjuUTBB12R"
      }
    },
    {
      "cell_type": "code",
      "source": [
        "numbers = [1, 2, 3, 4]\n",
        "squared = map(lambda x: x ** 2, numbers)\n",
        "print(list(squared))"
      ],
      "metadata": {
        "colab": {
          "base_uri": "https://localhost:8080/"
        },
        "id": "Xv2ZD3T-B30i",
        "outputId": "de684cfa-8ebc-499e-d45a-1b21e5c13f7e"
      },
      "execution_count": 47,
      "outputs": [
        {
          "output_type": "stream",
          "name": "stdout",
          "text": [
            "[1, 4, 9, 16]\n"
          ]
        }
      ]
    },
    {
      "cell_type": "code",
      "source": [
        "list1 = [1, 2, 3]\n",
        "list2 = [4, 5, 6]\n",
        "sums = map(lambda x, y: x + y, list1, list2)\n",
        "print(list(sums))"
      ],
      "metadata": {
        "colab": {
          "base_uri": "https://localhost:8080/"
        },
        "id": "o18kJGnmCBdW",
        "outputId": "86fc3be5-a7d2-42ca-bee7-4a1be0948963"
      },
      "execution_count": 48,
      "outputs": [
        {
          "output_type": "stream",
          "name": "stdout",
          "text": [
            "[5, 7, 9]\n"
          ]
        }
      ]
    },
    {
      "cell_type": "markdown",
      "source": [
        "reduce()\n",
        "Purpose: Reduces an iterable to a single value by repeatedly applying a function to pairs of items.\n",
        "\n",
        "Behavior: Combines elements cumulatively, using the result of one step as input for the next.\n",
        "\n",
        "Returns: A single value (not an iterator).\n",
        "\n",
        "Use Case: When you need to aggregate data (e.g., sum, product, maximum).\n",
        "\n"
      ],
      "metadata": {
        "id": "E8cW9uAKCHfL"
      }
    },
    {
      "cell_type": "code",
      "source": [
        "from functools import reduce\n",
        "numbers = [1, 2, 3, 4]\n",
        "product = reduce(lambda x, y: x * y, numbers)\n",
        "print(product)"
      ],
      "metadata": {
        "colab": {
          "base_uri": "https://localhost:8080/"
        },
        "id": "Rw9M1wYUCJZZ",
        "outputId": "df5bbe7d-362f-44d3-fb4c-3ddc3d90ee63"
      },
      "execution_count": 49,
      "outputs": [
        {
          "output_type": "stream",
          "name": "stdout",
          "text": [
            "24\n"
          ]
        }
      ]
    },
    {
      "cell_type": "code",
      "source": [
        "numbers = [1, 2, 3]\n",
        "sum_with_start = reduce(lambda x, y: x + y, numbers, 10)\n",
        "print(sum_with_start)"
      ],
      "metadata": {
        "colab": {
          "base_uri": "https://localhost:8080/"
        },
        "id": "P9HMH5PxCUI1",
        "outputId": "939db27c-49e1-4316-bde0-1c0c6959122a"
      },
      "execution_count": 50,
      "outputs": [
        {
          "output_type": "stream",
          "name": "stdout",
          "text": [
            "16\n"
          ]
        }
      ]
    },
    {
      "cell_type": "markdown",
      "source": [
        "filter()\n",
        "Purpose: Filters an iterable by keeping only items where a function returns True.\n",
        "\n",
        "Behavior: Tests each element against a condition, including only those that pass.\n",
        "\n",
        "Returns: A filter object (iterator) with selected items.\n",
        "\n",
        "Use Case: When you want to select a subset of items\n",
        "\n"
      ],
      "metadata": {
        "id": "PKJRQ2OaCiTX"
      }
    },
    {
      "cell_type": "code",
      "source": [
        "numbers = [1, 2, 3, 4, 5]\n",
        "evens = filter(lambda x: x % 2 == 0, numbers)\n",
        "print(list(evens))"
      ],
      "metadata": {
        "colab": {
          "base_uri": "https://localhost:8080/"
        },
        "id": "i9ypTs7GChjK",
        "outputId": "9bfdeea6-7a9b-4768-c49b-13a688be7ab5"
      },
      "execution_count": 51,
      "outputs": [
        {
          "output_type": "stream",
          "name": "stdout",
          "text": [
            "[2, 4]\n"
          ]
        }
      ]
    },
    {
      "cell_type": "code",
      "source": [
        "mixed = [0, 1, \"\", \"hello\", False, True]\n",
        "truthy = filter(None, mixed)\n",
        "print(list(truthy))"
      ],
      "metadata": {
        "colab": {
          "base_uri": "https://localhost:8080/"
        },
        "id": "BJZ7sCbbCsbR",
        "outputId": "11a29c5b-5598-4574-9239-9fa92ea1db56"
      },
      "execution_count": 52,
      "outputs": [
        {
          "output_type": "stream",
          "name": "stdout",
          "text": [
            "[1, 'hello', True]\n"
          ]
        }
      ]
    },
    {
      "cell_type": "markdown",
      "source": [
        "#11-Using pen & Paper write the internal mechanism for sum operation using  reduce function on this given list:[47,11,42,13];"
      ],
      "metadata": {
        "id": "DBiYA5UC73Ob"
      }
    },
    {
      "cell_type": "code",
      "source": [],
      "metadata": {
        "id": "dK2amyA-7eM2"
      },
      "execution_count": null,
      "outputs": []
    },
    {
      "cell_type": "markdown",
      "source": [
        "###Practical Questions:"
      ],
      "metadata": {
        "id": "x6vyfpbW8BBu"
      }
    },
    {
      "cell_type": "markdown",
      "source": [
        "#1-Write a Python function that takes a list of numbers as input and returns the sum of all even numbers in the list."
      ],
      "metadata": {
        "id": "4B62J-P38Fwd"
      }
    },
    {
      "cell_type": "code",
      "source": [
        "def sum_of_evens(numbers):\n",
        "    return sum(num for num in numbers if num % 2 == 0)\n",
        "numbers = [47, 11, 42, 13, 20, 8]\n",
        "print(sum_of_evens(numbers))"
      ],
      "metadata": {
        "colab": {
          "base_uri": "https://localhost:8080/"
        },
        "id": "XUx91-5I8Lwk",
        "outputId": "0b5d7de3-7457-4168-9e55-e0594fc1d02e"
      },
      "execution_count": 1,
      "outputs": [
        {
          "output_type": "stream",
          "name": "stdout",
          "text": [
            "70\n"
          ]
        }
      ]
    },
    {
      "cell_type": "markdown",
      "source": [
        "#2-Create a Python function that accepts a string and returns the reverse of that string."
      ],
      "metadata": {
        "id": "J74Wpl5s9FeM"
      }
    },
    {
      "cell_type": "code",
      "source": [
        "def reverse_string(s):\n",
        "    return s[::-1]  # Using slicing to reverse the string\n",
        "text = \"hello\"\n",
        "print(reverse_string(text))"
      ],
      "metadata": {
        "colab": {
          "base_uri": "https://localhost:8080/"
        },
        "id": "l3jJ9Ge99HlU",
        "outputId": "4419cb1b-b2e2-43fc-96a2-d62b5309d643"
      },
      "execution_count": 2,
      "outputs": [
        {
          "output_type": "stream",
          "name": "stdout",
          "text": [
            "olleh\n"
          ]
        }
      ]
    },
    {
      "cell_type": "markdown",
      "source": [
        "#3-Implement a Python function that takes a list of integers and returns a new list containing the squares of each number."
      ],
      "metadata": {
        "id": "UGOZcDwB9qAl"
      }
    },
    {
      "cell_type": "code",
      "source": [
        "def square_list(numbers):\n",
        "    return [num ** 2 for num in numbers]  # Using list comprehension\n",
        "numbers = [1, 2, 3, 4, 5]\n",
        "print(square_list(numbers))"
      ],
      "metadata": {
        "colab": {
          "base_uri": "https://localhost:8080/"
        },
        "id": "FDnT-GYF9ptt",
        "outputId": "6ebe356f-eb84-4df5-ddbc-f30ea213b7b5"
      },
      "execution_count": 7,
      "outputs": [
        {
          "output_type": "stream",
          "name": "stdout",
          "text": [
            "[1, 4, 9, 16, 25]\n"
          ]
        }
      ]
    },
    {
      "cell_type": "markdown",
      "source": [],
      "metadata": {
        "id": "bnE53sCU-Fly"
      }
    },
    {
      "cell_type": "markdown",
      "source": [
        "#4-Write a Python function that checks if a given number is prime or not from 1 to 200."
      ],
      "metadata": {
        "id": "n51a0Ruv-CX1"
      }
    },
    {
      "cell_type": "code",
      "source": [
        "def is_prime(n):\n",
        "    if n < 2:\n",
        "        return False  # 0 and 1 are not prime numbers\n",
        "    for i in range(2, int(n ** 0.5) + 1):  # Check divisibility up to sqrt(n)\n",
        "        if n % i == 0:\n",
        "            return False\n",
        "    return True\n",
        "prime_numbers = [n for n in range(1, 201) if is_prime(n)]\n",
        "print(prime_numbers)"
      ],
      "metadata": {
        "colab": {
          "base_uri": "https://localhost:8080/"
        },
        "id": "q5pGIz9H-K6o",
        "outputId": "4b5e9feb-03ec-4d6d-85d1-36b77a22b8cc"
      },
      "execution_count": 8,
      "outputs": [
        {
          "output_type": "stream",
          "name": "stdout",
          "text": [
            "[2, 3, 5, 7, 11, 13, 17, 19, 23, 29, 31, 37, 41, 43, 47, 53, 59, 61, 67, 71, 73, 79, 83, 89, 97, 101, 103, 107, 109, 113, 127, 131, 137, 139, 149, 151, 157, 163, 167, 173, 179, 181, 191, 193, 197, 199]\n"
          ]
        }
      ]
    },
    {
      "cell_type": "markdown",
      "source": [
        "#5-Create an iterator class in Python that generates the Fibonacci sequence up to a specified number of terms."
      ],
      "metadata": {
        "id": "4U1uyYJD-bP1"
      }
    },
    {
      "cell_type": "code",
      "source": [
        "class FibonacciIterator:\n",
        "    def __init__(self, terms):\n",
        "        self.terms = terms\n",
        "        self.count = 0\n",
        "        self.a = 0\n",
        "        self.b = 1\n",
        "\n",
        "    def __iter__(self):\n",
        "        return self\n",
        "\n",
        "    def __next__(self):\n",
        "        if self.count >= self.terms:\n",
        "            raise StopIteration\n",
        "        current = self.a\n",
        "        self.a, self.b = self.b, self.a + self.b\n",
        "        self.count += 1\n",
        "        return current\n",
        "fib = FibonacciIterator(5)\n",
        "for num in fib:\n",
        "    print(num)"
      ],
      "metadata": {
        "colab": {
          "base_uri": "https://localhost:8080/"
        },
        "id": "9eEOl7DNBkVj",
        "outputId": "9aa49d78-850e-420e-a933-d572d80ad2c7"
      },
      "execution_count": 18,
      "outputs": [
        {
          "output_type": "stream",
          "name": "stdout",
          "text": [
            "0\n",
            "1\n",
            "1\n",
            "2\n",
            "3\n"
          ]
        }
      ]
    },
    {
      "cell_type": "markdown",
      "source": [
        "#6-Write a generator function in Python that yields the powers of 2 up to a given exponent."
      ],
      "metadata": {
        "id": "NIRWBhLaCB3F"
      }
    },
    {
      "cell_type": "code",
      "source": [
        "def powers_of_two(max_exp):\n",
        "    for i in range(max_exp + 1):\n",
        "        yield 2 ** i\n",
        "\n",
        "# Test\n",
        "for x in powers_of_two(4):\n",
        "    print(x)"
      ],
      "metadata": {
        "colab": {
          "base_uri": "https://localhost:8080/"
        },
        "id": "fz-f-5XACKVF",
        "outputId": "f295a68e-f47b-488f-9c55-4d5354ca3620"
      },
      "execution_count": 19,
      "outputs": [
        {
          "output_type": "stream",
          "name": "stdout",
          "text": [
            "1\n",
            "2\n",
            "4\n",
            "8\n",
            "16\n"
          ]
        }
      ]
    },
    {
      "cell_type": "markdown",
      "source": [
        "#7-. Implement a generator function that reads a file line by line and yields each line as a string."
      ],
      "metadata": {
        "id": "pwVojFeBCjAI"
      }
    },
    {
      "cell_type": "markdown",
      "source": [
        "#8-Use a lambda function in Python to sort a list of tuples based on the second element of each tuple."
      ],
      "metadata": {
        "id": "W8AUwXckKoSV"
      }
    },
    {
      "cell_type": "code",
      "source": [
        "data = [(1, 'apple'), (3, 'zebra'), (2, 'banana')]\n",
        "\n",
        "# Sort using lambda\n",
        "sorted_data = sorted(data, key=lambda x: x[1])\n",
        "\n",
        "print(sorted_data)"
      ],
      "metadata": {
        "colab": {
          "base_uri": "https://localhost:8080/"
        },
        "id": "48iDVkmdMwqC",
        "outputId": "e1aa0741-a55e-40b1-d083-14d641877944"
      },
      "execution_count": 25,
      "outputs": [
        {
          "output_type": "stream",
          "name": "stdout",
          "text": [
            "[(1, 'apple'), (2, 'banana'), (3, 'zebra')]\n"
          ]
        }
      ]
    },
    {
      "cell_type": "markdown",
      "source": [
        "#9-Write a Python program that uses `map()` to convert a list of temperatures from Celsius to Fahrenheit."
      ],
      "metadata": {
        "id": "52T8CcRQNBbC"
      }
    },
    {
      "cell_type": "code",
      "source": [
        "def celsius_to_fahrenheit(celsius):\n",
        "    return (celsius * 9/5) + 32\n",
        "\n",
        "celsius_temps = [0, 25, 37, 100]\n",
        "\n",
        "fahrenheit_temps = map(celsius_to_fahrenheit, celsius_temps)\n",
        "print(list(fahrenheit_temps))"
      ],
      "metadata": {
        "colab": {
          "base_uri": "https://localhost:8080/"
        },
        "id": "rKQX1OFxNF5A",
        "outputId": "8268beea-7bfd-42ef-946e-4392096565c6"
      },
      "execution_count": 26,
      "outputs": [
        {
          "output_type": "stream",
          "name": "stdout",
          "text": [
            "[32.0, 77.0, 98.6, 212.0]\n"
          ]
        }
      ]
    },
    {
      "cell_type": "markdown",
      "source": [
        "#10-Create a Python program that uses `filter()` to remove all the vowels from a given string."
      ],
      "metadata": {
        "id": "COTvL6XdN2hm"
      }
    },
    {
      "cell_type": "code",
      "source": [
        "def is_not_vowel(char):\n",
        "    vowels = 'aeiouAEIOU'\n",
        "    return char not in vowels\n",
        "text = \"Hello World\"\n",
        "\n",
        "filtered_text = filter(is_not_vowel, text)\n",
        "\n",
        "result = ''.join(filtered_text)\n",
        "print(result)"
      ],
      "metadata": {
        "colab": {
          "base_uri": "https://localhost:8080/"
        },
        "id": "KGFyWcqqN7KK",
        "outputId": "4d7600e5-7ef7-421b-a602-def989c1eb90"
      },
      "execution_count": 27,
      "outputs": [
        {
          "output_type": "stream",
          "name": "stdout",
          "text": [
            "Hll Wrld\n"
          ]
        }
      ]
    },
    {
      "cell_type": "code",
      "source": [
        "#11-\n",
        "orders = [34587, 98762, 77226, 88112]\n",
        "titles = [\"Learning Python, Mark Lutz\", \"Programming Python, Mark Lutz\",\n",
        "          \"Head First Python, Paul Barry\", \"Einführung in Python3, Bernd Klein\"]\n",
        "quantities = [4, 5, 3, 3]\n",
        "prices = [40.95, 56.80, 32.95, 24.99]\n",
        "\n",
        "calculate_total = lambda qty, price, order: (qty * price + 10) if (qty * price < 100) else (qty * price)\n",
        "\n",
        "result = list(map(lambda x: (x[0], calculate_total(x[1], x[2], x[0])),\n",
        "                  zip(orders, quantities, prices)))\n",
        "print(result)"
      ],
      "metadata": {
        "colab": {
          "base_uri": "https://localhost:8080/"
        },
        "id": "KVBL1yskRJOv",
        "outputId": "807d110a-1223-402d-dabd-4024a87a6228"
      },
      "execution_count": 28,
      "outputs": [
        {
          "output_type": "stream",
          "name": "stdout",
          "text": [
            "[(34587, 163.8), (98762, 284.0), (77226, 108.85000000000001), (88112, 84.97)]\n"
          ]
        }
      ]
    }
  ]
}